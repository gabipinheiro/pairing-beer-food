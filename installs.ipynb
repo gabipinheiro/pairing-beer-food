{
 "cells": [
  {
   "cell_type": "code",
   "execution_count": null,
   "id": "5bb3ea30-84a2-4002-8dde-a16dc076c94a",
   "metadata": {},
   "outputs": [],
   "source": [
    "# usados no notebook 1_ingredientes_allRecipes\n",
    "!pip install fake_useragent\n",
    "!pip install fuzzywuzzy\n",
    "!pip install python-Levenshtein"
   ]
  },
  {
   "cell_type": "code",
   "execution_count": null,
   "id": "d27e346c-43ea-4dc2-9063-42ae7aa6e95e",
   "metadata": {},
   "outputs": [],
   "source": [
    "# biblioteca para treinamento de redes neurais (para encontrar padrões de harmonizacao)\n",
    "pip install tensorflow"
   ]
  },
  {
   "cell_type": "code",
   "execution_count": null,
   "id": "965f7666-8a17-4fe1-b9ab-5dd828ea7566",
   "metadata": {},
   "outputs": [],
   "source": [
    "# biblioteca para usar objetos de um notebook em outro\n",
    "pip install nbimporter"
   ]
  },
  {
   "cell_type": "code",
   "execution_count": null,
   "id": "6de2facf-de98-4279-9013-d1012064664d",
   "metadata": {},
   "outputs": [],
   "source": []
  },
  {
   "cell_type": "code",
   "execution_count": null,
   "id": "e9fcd966-3c42-4676-a737-86a0052662f9",
   "metadata": {},
   "outputs": [],
   "source": []
  }
 ],
 "metadata": {
  "kernelspec": {
   "display_name": "Python 3 (ipykernel)",
   "language": "python",
   "name": "python3"
  },
  "language_info": {
   "codemirror_mode": {
    "name": "ipython",
    "version": 3
   },
   "file_extension": ".py",
   "mimetype": "text/x-python",
   "name": "python",
   "nbconvert_exporter": "python",
   "pygments_lexer": "ipython3",
   "version": "3.11.5"
  }
 },
 "nbformat": 4,
 "nbformat_minor": 5
}
