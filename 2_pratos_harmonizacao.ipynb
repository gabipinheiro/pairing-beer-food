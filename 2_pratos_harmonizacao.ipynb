{
 "cells": [
  {
   "cell_type": "code",
   "execution_count": null,
   "id": "f3188944-604d-4c59-aa67-8c00865a72e6",
   "metadata": {},
   "outputs": [],
   "source": [
    "### EXTRAI APENAS OS NOMES DOS PRATOS DA BASE DE HARMONIZACAO ###"
   ]
  },
  {
   "cell_type": "code",
   "execution_count": 11,
   "id": "87261a5a-0907-4f67-9989-5eb26ca227aa",
   "metadata": {},
   "outputs": [],
   "source": [
    "import pandas as pd"
   ]
  },
  {
   "cell_type": "code",
   "execution_count": 19,
   "id": "0a601f22-7edf-4c79-a0c3-b58bf5f4fb5a",
   "metadata": {},
   "outputs": [],
   "source": [
    "# LEITURA DO ARQUIVO DE HARMONIZACOES, QUE CONTEM OS PRATOS\n",
    "\n",
    "harmonizacao_df = pd.read_csv('./datasets/preprocessed/HARMONIZACOES_preprocessed.csv')"
   ]
  },
  {
   "cell_type": "code",
   "execution_count": 21,
   "id": "dfb7c435-9312-4164-8b56-39be4f5d6c72",
   "metadata": {},
   "outputs": [
    {
     "name": "stdout",
     "output_type": "stream",
     "text": [
      "            pratos\n",
      "0  Bolognese pasta\n",
      "1       Bacon eggs\n",
      "2  Sopa minestrone\n",
      "3          Crushed\n",
      "4  Tamboril (fish)\n"
     ]
    }
   ],
   "source": [
    "# EXTRAI PRATOS DA BASE DE HARMONIZAÇÕES\n",
    "\n",
    "# Criar um conjunto para armazenar preparações únicas\n",
    "pratos = set()\n",
    "\n",
    "# Iterar pelas linhas do DataFrame para coletar preparações\n",
    "for preparacoes in harmonizacao_df['pratos']:\n",
    "    # Verifica se preparacoes é um conjunto em formato de string e converte para um conjunto\n",
    "    if isinstance(preparacoes, str):\n",
    "        preparacoes_set = eval(preparacoes)  # Converte a string do conjunto de volta para um conjunto\n",
    "    else:\n",
    "        preparacoes_set = preparacoes  # Caso já seja um conjunto\n",
    "\n",
    "    # Adicionar as preparações ao conjunto de preparações distintas\n",
    "    pratos.update(preparacoes_set)\n",
    "\n",
    "# Criar uma lista de preparações distintas\n",
    "lista_pratos = list(pratos)\n",
    "\n",
    "# Traduzir as preparações distintas\n",
    "#lista_pratos_en = [translator.translate(preparacao, destination_language='en').result for preparacao in lista_pratos]\n",
    "\n",
    "# Criar um DataFrame com as colunas 'dishes' e 'dishes_translated'\n",
    "pratos_df = pd.DataFrame({\n",
    "    'pratos': lista_pratos\n",
    "})\n",
    "\n",
    "# Exportar o DataFrame para um arquivo CSV\n",
    "pratos_df.to_csv(\"./datasets/preprocessed/PRATOS.csv\", index=False)\n",
    "\n",
    "# Exibir as primeiras linhas do DataFrame final\n",
    "print(pratos_df.head())\n"
   ]
  },
  {
   "cell_type": "code",
   "execution_count": null,
   "id": "da0b4e9e-0406-4ac9-b244-d018a7a75890",
   "metadata": {},
   "outputs": [],
   "source": []
  }
 ],
 "metadata": {
  "kernelspec": {
   "display_name": "Python 3 (ipykernel)",
   "language": "python",
   "name": "python3"
  },
  "language_info": {
   "codemirror_mode": {
    "name": "ipython",
    "version": 3
   },
   "file_extension": ".py",
   "mimetype": "text/x-python",
   "name": "python",
   "nbconvert_exporter": "python",
   "pygments_lexer": "ipython3",
   "version": "3.11.5"
  }
 },
 "nbformat": 4,
 "nbformat_minor": 5
}
