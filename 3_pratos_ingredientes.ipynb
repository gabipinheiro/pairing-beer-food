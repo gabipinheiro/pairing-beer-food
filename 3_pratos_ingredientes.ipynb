{
 "cells": [
  {
   "cell_type": "code",
   "execution_count": null,
   "id": "d1aedc08-fdf5-4f39-8bd4-4054df1fbd8d",
   "metadata": {},
   "outputs": [],
   "source": [
    "### SEPARAÇÃO DA BASE DE PRATOS DE TREINAMENTO E A DE PREDICÃO ###\n",
    "\n",
    "### OS PRATOS DA BASE ALLRECIPES QUE DAO MATCH COM A BASE DE PRATOS QUE VEIO DA LISTA DE HARMONIZACAO\n",
    "### SERAO OS PRATOS USADOS PARA TREINAMENTO\n",
    "\n",
    "### O RESTANTE SERÁ USADO COMO TESTE DE PREDIÇÃO COM O ALGORITMO PRONTO"
   ]
  },
  {
   "cell_type": "code",
   "execution_count": 96,
   "id": "34e7bf62-a891-44b9-b5b4-b0c31bb2968e",
   "metadata": {},
   "outputs": [],
   "source": [
    "\n",
    "import pandas as pd\n",
    "from fuzzywuzzy import process\n"
   ]
  },
  {
   "cell_type": "code",
   "execution_count": 9,
   "id": "cc7403b0-5a82-4561-b000-4f0c25777569",
   "metadata": {},
   "outputs": [],
   "source": [
    "# Carregar as bases de dados\n",
    "pratos_allrecipes_filtrados = pd.read_csv('./datasets/raw/ALLRECIPES_PRATOSxINGREDIENTES_filtrado.csv')\n",
    "pratos_harmonizacao = pd.read_csv('./datasets/preprocessed/PRATOS.csv')"
   ]
  },
  {
   "cell_type": "code",
   "execution_count": 51,
   "id": "126ee057-0cb7-4eb2-9af8-57e0da59f780",
   "metadata": {},
   "outputs": [],
   "source": [
    "# separando as receitas que tem na minha base de PRATOS das que nao tem\n",
    "\n",
    "# Listas de nomes de receitas\n",
    "allrecipe_names = pratos_allrecipes_filtrados['prato'].tolist()\n",
    "pratos_harmonizacao_names = pratos_harmonizacao['pratos'].tolist()\n",
    "\n",
    "# Tolerância de similaridade (0 a 100), onde 100 é uma correspondência exata\n",
    "similarity_threshold = 90\n",
    "\n",
    "# Encontrar receitas similares\n",
    "def find_pratos_similares(recipes, pratos, threshold):\n",
    "    matches = []\n",
    "    for recipe in recipes:\n",
    "        best_match, score = process.extractOne(recipe, pratos)\n",
    "        if score >= threshold:\n",
    "            matches.append((recipe, best_match, score))\n",
    "    return matches\n",
    "\n",
    "# Executar a comparação\n",
    "pratos_similares = find_pratos_similares(allrecipe_names, pratos_harmonizacao_names, similarity_threshold)\n",
    "\n",
    "# Criar dataframes para as novas bases\n",
    "similarity_df = pd.DataFrame(pratos_similares, columns=['pratos_allrecipes', 'pratos_harmonizacao', 'similarity_score'])\n",
    "\n",
    "# Identificar receitas que estão na base de pratos e as que não estão\n",
    "pratos_match = similarity_df['pratos_allrecipes'].unique()\n",
    "pratos_novasEntradas = pratos_allrecipes_filtrados[~pratos_allrecipes_filtrados['prato'].isin(pratos_match)]\n",
    "pratos_treinamento = pratos_allrecipes_filtrados[pratos_allrecipes_filtrados['prato'].isin(pratos_match)]\n",
    "\n"
   ]
  },
  {
   "cell_type": "code",
   "execution_count": 53,
   "id": "7e504516-d136-4bcc-b98b-20d8d0eb0506",
   "metadata": {},
   "outputs": [
    {
     "name": "stdout",
     "output_type": "stream",
     "text": [
      "                                                prato  \\\n",
      "0                           caramel apple pie cookies   \n",
      "1     banana and peanut butter 4 ingredient ice cream   \n",
      "2                    banana cinnamon chocolate sorbet   \n",
      "3   flourless peanut butter chocolate chip blender...   \n",
      "4        abc pudding avocado banana chocolate delight   \n",
      "..                                                ...   \n",
      "80                         coffee and donuts tiramisu   \n",
      "81                            chocolate rum snowballs   \n",
      "82                               stuffed bell peppers   \n",
      "83                 crushed pineapple upside down cake   \n",
      "84                 crushed pineapple upside down cake   \n",
      "\n",
      "                                         ingredientes  \\\n",
      "0   {'apple', 'frog fish and sea devils', 'sugar',...   \n",
      "1   {'sugar', 'vanilla', 'ananas', 'peanut butter'...   \n",
      "2   {'cinnamon', 'vanilla', 'milk powder', 'ananas...   \n",
      "3   {'honey', 'almond', 'white-flowered gourd', 's...   \n",
      "4        {'avocado', 'ananas', 'fatty fish', 'cocoa'}   \n",
      "..                                                ...   \n",
      "80  {'sugar', 'vanilla', 'milk powder', 'milk', 'c...   \n",
      "81  {'sugar', 'milk powder', 'syrup', 'rum', 'choc...   \n",
      "82  {'onion', 'pepper', 'tomato', 'olive', 'rice',...   \n",
      "83  {'butter', 'sugar', 'water', 'corn oil', 'cinn...   \n",
      "84  {'butter', 'sugar', 'water', 'corn oil', 'cinn...   \n",
      "\n",
      "                                    pratos_allrecipes pratos_harmonizacao  \n",
      "0                           caramel apple pie cookies           Apple pie  \n",
      "1     banana and peanut butter 4 ingredient ice cream           Ice cream  \n",
      "2                    banana cinnamon chocolate sorbet           Chocolate  \n",
      "3   flourless peanut butter chocolate chip blender...           Chocolate  \n",
      "4        abc pudding avocado banana chocolate delight           Chocolate  \n",
      "..                                                ...                 ...  \n",
      "80                         coffee and donuts tiramisu            Tiramisu  \n",
      "81                            chocolate rum snowballs           Chocolate  \n",
      "82                               stuffed bell peppers     Stuffed peppers  \n",
      "83                 crushed pineapple upside down cake             Crushed  \n",
      "84                 crushed pineapple upside down cake             Crushed  \n",
      "\n",
      "[85 rows x 4 columns]\n"
     ]
    }
   ],
   "source": [
    "# Fazer o merge da base de treinamento com similarity_df para adicionar a coluna pratos_harmonizacao\n",
    "pratos_treinamento = pd.merge(pratos_treinamento, similarity_df[['pratos_allrecipes', 'pratos_harmonizacao']], \n",
    "                        left_on='prato', right_on='pratos_allrecipes', how='left')\n",
    "\n",
    "print(pratos_treinamento)\n"
   ]
  },
  {
   "cell_type": "code",
   "execution_count": 74,
   "id": "ad390d9f-c59c-437c-8466-33d9764f599f",
   "metadata": {},
   "outputs": [],
   "source": [
    "# BASE QUE TERÁ TODOS OS MATCHINGS DE PRATOS E INGREDIENTES\n",
    "\n",
    "df_pratos_ingredientes = pd.concat([pratos_novasEntradas, pratos_treinamento], ignore_index=True)\n"
   ]
  },
  {
   "cell_type": "code",
   "execution_count": 91,
   "id": "0d14f4d4-ffaa-46fe-923a-3061f56498d4",
   "metadata": {},
   "outputs": [
    {
     "name": "stdout",
     "output_type": "stream",
     "text": [
      "                                  prato  \\\n",
      "0                    air fryer eggplant   \n",
      "1            shiitake mushroom stir fry   \n",
      "2    eggplant caponata sicilian version   \n",
      "3                     caprese appetizer   \n",
      "4                     sarahs applesauce   \n",
      "..                                  ...   \n",
      "404                     Stuffed peppers   \n",
      "405                          Strawberry   \n",
      "406                            Tiramisu   \n",
      "407                           Chocolate   \n",
      "408                     Stuffed peppers   \n",
      "\n",
      "                                          ingredientes  \\\n",
      "0    {'pepper', 'thyme', 'eggplant', 'garlic', 'avo...   \n",
      "1    {'onion', 'soya sauce', 'pepper', 'mushroom', ...   \n",
      "2    {'onion', 'plum', 'sugar', 'celery', 'olive', ...   \n",
      "3    {'pepper', 'olive', 'tomato', 'salt', 'mozzare...   \n",
      "4              {'cinnamon', 'water', 'sugar', 'apple'}   \n",
      "..                                                 ...   \n",
      "404  {'pepper', 'cheddar cheese', 'water', 'corn oi...   \n",
      "405  {'cheese', 'butter', 'cream cheese', 'milk', '...   \n",
      "406  {'sugar', 'vanilla', 'milk powder', 'milk', 'c...   \n",
      "407  {'sugar', 'milk powder', 'syrup', 'rum', 'choc...   \n",
      "408  {'onion', 'pepper', 'tomato', 'olive', 'rice',...   \n",
      "\n",
      "                            pratos_allrecipes  \n",
      "0                                         NaN  \n",
      "1                                         NaN  \n",
      "2                                         NaN  \n",
      "3                                         NaN  \n",
      "4                                         NaN  \n",
      "..                                        ...  \n",
      "404                     jazzy stuffed peppers  \n",
      "405  no bake sugar free strawberry cheesecake  \n",
      "406                coffee and donuts tiramisu  \n",
      "407                   chocolate rum snowballs  \n",
      "408                      stuffed bell peppers  \n",
      "\n",
      "[366 rows x 3 columns]\n"
     ]
    }
   ],
   "source": [
    "print(df_pratos_ingredientes)"
   ]
  },
  {
   "cell_type": "code",
   "execution_count": 89,
   "id": "1a96b23c-a365-4239-b1f5-16552d845026",
   "metadata": {},
   "outputs": [],
   "source": [
    "# remove duplicadas\n",
    "df_pratos_ingredientes = df_pratos_ingredientes.drop_duplicates()"
   ]
  },
  {
   "cell_type": "code",
   "execution_count": null,
   "id": "fd3c8414-951e-4dcc-9f36-8483486dc7b4",
   "metadata": {},
   "outputs": [],
   "source": []
  },
  {
   "cell_type": "code",
   "execution_count": 93,
   "id": "0428184e-4fca-4af7-892a-d3716301d554",
   "metadata": {},
   "outputs": [],
   "source": [
    "\n",
    "df_pratos_ingredientes.to_csv('./datasets/preprocessed/PRATOSxINGREDIENTES.csv', index=False)"
   ]
  },
  {
   "cell_type": "code",
   "execution_count": 55,
   "id": "864de9b4-764f-49ad-b24e-37907be434a2",
   "metadata": {},
   "outputs": [],
   "source": [
    "\n",
    "# Manter apenas as colunas 'prato' (que vem da base harmonizacao), prato_allrecipes e 'ingredientes'\n",
    "pratos_treinamento = pratos_treinamento.drop(columns=['prato'])\n",
    "\n",
    "pratos_treinamento = pratos_treinamento.rename(columns={'pratos_harmonizacao': 'prato'})\n"
   ]
  },
  {
   "cell_type": "code",
   "execution_count": 60,
   "id": "3e73a716-98e0-4c06-9cc2-33b91f4c9ec2",
   "metadata": {},
   "outputs": [],
   "source": [
    "# remove duplicadas\n",
    "pratos_treinamento = pratos_treinamento.drop_duplicates()\n"
   ]
  },
  {
   "cell_type": "code",
   "execution_count": 98,
   "id": "bd20abc2-e2a9-453e-8c2c-987c8a115278",
   "metadata": {},
   "outputs": [
    {
     "data": {
      "text/html": [
       "<div>\n",
       "<style scoped>\n",
       "    .dataframe tbody tr th:only-of-type {\n",
       "        vertical-align: middle;\n",
       "    }\n",
       "\n",
       "    .dataframe tbody tr th {\n",
       "        vertical-align: top;\n",
       "    }\n",
       "\n",
       "    .dataframe thead th {\n",
       "        text-align: right;\n",
       "    }\n",
       "</style>\n",
       "<table border=\"1\" class=\"dataframe\">\n",
       "  <thead>\n",
       "    <tr style=\"text-align: right;\">\n",
       "      <th></th>\n",
       "      <th>ingredientes</th>\n",
       "      <th>pratos_allrecipes</th>\n",
       "      <th>prato</th>\n",
       "    </tr>\n",
       "  </thead>\n",
       "  <tbody>\n",
       "    <tr>\n",
       "      <th>0</th>\n",
       "      <td>{'apple', 'frog fish and sea devils', 'sugar',...</td>\n",
       "      <td>caramel apple pie cookies</td>\n",
       "      <td>Apple pie</td>\n",
       "    </tr>\n",
       "    <tr>\n",
       "      <th>1</th>\n",
       "      <td>{'sugar', 'vanilla', 'ananas', 'peanut butter'...</td>\n",
       "      <td>banana and peanut butter 4 ingredient ice cream</td>\n",
       "      <td>Ice cream</td>\n",
       "    </tr>\n",
       "    <tr>\n",
       "      <th>2</th>\n",
       "      <td>{'cinnamon', 'vanilla', 'milk powder', 'ananas...</td>\n",
       "      <td>banana cinnamon chocolate sorbet</td>\n",
       "      <td>Chocolate</td>\n",
       "    </tr>\n",
       "    <tr>\n",
       "      <th>3</th>\n",
       "      <td>{'honey', 'almond', 'white-flowered gourd', 's...</td>\n",
       "      <td>flourless peanut butter chocolate chip blender...</td>\n",
       "      <td>Chocolate</td>\n",
       "    </tr>\n",
       "    <tr>\n",
       "      <th>4</th>\n",
       "      <td>{'avocado', 'ananas', 'fatty fish', 'cocoa'}</td>\n",
       "      <td>abc pudding avocado banana chocolate delight</td>\n",
       "      <td>Chocolate</td>\n",
       "    </tr>\n",
       "    <tr>\n",
       "      <th>...</th>\n",
       "      <td>...</td>\n",
       "      <td>...</td>\n",
       "      <td>...</td>\n",
       "    </tr>\n",
       "    <tr>\n",
       "      <th>78</th>\n",
       "      <td>{'pepper', 'cheddar cheese', 'water', 'corn oi...</td>\n",
       "      <td>jazzy stuffed peppers</td>\n",
       "      <td>Stuffed peppers</td>\n",
       "    </tr>\n",
       "    <tr>\n",
       "      <th>79</th>\n",
       "      <td>{'cheese', 'butter', 'cream cheese', 'milk', '...</td>\n",
       "      <td>no bake sugar free strawberry cheesecake</td>\n",
       "      <td>Strawberry</td>\n",
       "    </tr>\n",
       "    <tr>\n",
       "      <th>80</th>\n",
       "      <td>{'sugar', 'vanilla', 'milk powder', 'milk', 'c...</td>\n",
       "      <td>coffee and donuts tiramisu</td>\n",
       "      <td>Tiramisu</td>\n",
       "    </tr>\n",
       "    <tr>\n",
       "      <th>81</th>\n",
       "      <td>{'sugar', 'milk powder', 'syrup', 'rum', 'choc...</td>\n",
       "      <td>chocolate rum snowballs</td>\n",
       "      <td>Chocolate</td>\n",
       "    </tr>\n",
       "    <tr>\n",
       "      <th>82</th>\n",
       "      <td>{'onion', 'pepper', 'tomato', 'olive', 'rice',...</td>\n",
       "      <td>stuffed bell peppers</td>\n",
       "      <td>Stuffed peppers</td>\n",
       "    </tr>\n",
       "  </tbody>\n",
       "</table>\n",
       "<p>69 rows × 3 columns</p>\n",
       "</div>"
      ],
      "text/plain": [
       "                                         ingredientes  \\\n",
       "0   {'apple', 'frog fish and sea devils', 'sugar',...   \n",
       "1   {'sugar', 'vanilla', 'ananas', 'peanut butter'...   \n",
       "2   {'cinnamon', 'vanilla', 'milk powder', 'ananas...   \n",
       "3   {'honey', 'almond', 'white-flowered gourd', 's...   \n",
       "4        {'avocado', 'ananas', 'fatty fish', 'cocoa'}   \n",
       "..                                                ...   \n",
       "78  {'pepper', 'cheddar cheese', 'water', 'corn oi...   \n",
       "79  {'cheese', 'butter', 'cream cheese', 'milk', '...   \n",
       "80  {'sugar', 'vanilla', 'milk powder', 'milk', 'c...   \n",
       "81  {'sugar', 'milk powder', 'syrup', 'rum', 'choc...   \n",
       "82  {'onion', 'pepper', 'tomato', 'olive', 'rice',...   \n",
       "\n",
       "                                    pratos_allrecipes            prato  \n",
       "0                           caramel apple pie cookies        Apple pie  \n",
       "1     banana and peanut butter 4 ingredient ice cream        Ice cream  \n",
       "2                    banana cinnamon chocolate sorbet        Chocolate  \n",
       "3   flourless peanut butter chocolate chip blender...        Chocolate  \n",
       "4        abc pudding avocado banana chocolate delight        Chocolate  \n",
       "..                                                ...              ...  \n",
       "78                              jazzy stuffed peppers  Stuffed peppers  \n",
       "79           no bake sugar free strawberry cheesecake       Strawberry  \n",
       "80                         coffee and donuts tiramisu         Tiramisu  \n",
       "81                            chocolate rum snowballs        Chocolate  \n",
       "82                               stuffed bell peppers  Stuffed peppers  \n",
       "\n",
       "[69 rows x 3 columns]"
      ]
     },
     "execution_count": 98,
     "metadata": {},
     "output_type": "execute_result"
    }
   ],
   "source": [
    "pratos_treinamento"
   ]
  },
  {
   "cell_type": "code",
   "execution_count": 62,
   "id": "863c8347-f230-4abf-a8bf-bb1fdb8a34d1",
   "metadata": {},
   "outputs": [],
   "source": [
    "# Salvar as novas bases em arquivos CSV, se necessário\n",
    "pratos_novasEntradas.to_csv('./datasets/final/PRATOSxINGREDIENTES_novasEntradas.csv', index=False)\n",
    "pratos_treinamento.to_csv('./datasets/train/PRATOSxINGREDIENTES_treinamento.csv', index=False)\n",
    "\n",
    "# Salvar o DataFrame de similaridade, se necessário\n",
    "#similarity_df.to_csv('similarity_df.csv', index=False)"
   ]
  },
  {
   "cell_type": "code",
   "execution_count": null,
   "id": "a154757d-2db8-4a97-be50-448e1576644e",
   "metadata": {},
   "outputs": [],
   "source": []
  }
 ],
 "metadata": {
  "kernelspec": {
   "display_name": "Python 3 (ipykernel)",
   "language": "python",
   "name": "python3"
  },
  "language_info": {
   "codemirror_mode": {
    "name": "ipython",
    "version": 3
   },
   "file_extension": ".py",
   "mimetype": "text/x-python",
   "name": "python",
   "nbconvert_exporter": "python",
   "pygments_lexer": "ipython3",
   "version": "3.11.5"
  }
 },
 "nbformat": 4,
 "nbformat_minor": 5
}
