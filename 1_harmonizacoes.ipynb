{
 "cells": [
  {
   "cell_type": "code",
   "execution_count": null,
   "id": "facd6f3f-de71-4eca-9bc7-b6da68d9e4d2",
   "metadata": {},
   "outputs": [],
   "source": [
    "### EXTRAI AS HARMONIZAÇÕES LISTADAS NO SITE BREJAS PARA UM CSV ###"
   ]
  },
  {
   "cell_type": "code",
   "execution_count": 89,
   "id": "802bd327-2a8d-497d-b94b-bc64a79f5295",
   "metadata": {},
   "outputs": [],
   "source": [
    "# imports necessários\n",
    "\n",
    "import pandas as pd\n",
    "import requests\n",
    "from bs4 import BeautifulSoup\n",
    "from translatepy import Translator\n",
    "import numpy as np"
   ]
  },
  {
   "cell_type": "code",
   "execution_count": 52,
   "id": "b06bf940-6ab9-4ec8-be1e-ba5afa0af658",
   "metadata": {},
   "outputs": [
    {
     "name": "stdout",
     "output_type": "stream",
     "text": [
      "                          pratos  \\\n",
      "0  Abacate (Guacamole ou Salada)   \n",
      "1              Amêndoas Salgadas   \n",
      "2                       Anchovas   \n",
      "3                  Appfelstrudel   \n",
      "4      Arenque (Peixe gorduroso)   \n",
      "\n",
      "                                    estilos_cervejas  \n",
      "0  American Pale Ale, India Pale Ale (IPA), Amber...  \n",
      "1              American Pale Ale, American Brown Ale  \n",
      "2                   German Pilsner, Bohemian Pilsner  \n",
      "3       Russian Imperial Stout , Sweet Stout, Porter  \n",
      "4  Flanders Red Ale , Flanders Brown,            ...  \n"
     ]
    }
   ],
   "source": [
    "# processo de web scrapping da pagina que contem lista de harmonizacoes\n",
    "\n",
    "# URL da página a ser raspada\n",
    "url = \"https://www.brejas.com.br/harmonizacao/harmonizacao-cerveja-pratos.shtml#u\"\n",
    "\n",
    "# Fazer o request para a página\n",
    "response = requests.get(url)\n",
    "soup = BeautifulSoup(response.content, \"html.parser\")\n",
    "\n",
    "# Encontrar a tabela com as preparações e estilos de cerveja\n",
    "tabela = soup.find(\"table\")\n",
    "\n",
    "# Criar listas para armazenar os dados\n",
    "preparacoes = []\n",
    "estilos_cerveja = []\n",
    "categoria = []\n",
    "\n",
    "# Percorrer as linhas da tabela\n",
    "for linha in tabela.find_all(\"tr\")[1:]:  # Ignorar o cabeçalho\n",
    "    colunas = linha.find_all(\"td\")\n",
    "    if len(colunas) > 1:  # Verificar se há dados suficientes\n",
    "        preparacao = colunas[0].text.strip()\n",
    "        estilos = colunas[1].text.strip().replace('\\n', ', ')  # Substituir '\\n' por vírgulas\n",
    "        preparacoes.append(preparacao)\n",
    "        estilos_cerveja.append(estilos)\n",
    "\n",
    "# Criar um DataFrame com os dados\n",
    "df = pd.DataFrame({\n",
    "    \"pratos\": preparacoes,\n",
    "    \"estilos_cervejas\": estilos_cerveja\n",
    "})\n",
    "\n",
    "df = df.dropna(subset=['estilos_cervejas'])\n",
    "df = df.dropna(subset=['pratos'])\n",
    "\n",
    "# Mostrar as primeiras linhas do DataFrame\n",
    "print(df.head())\n",
    "\n",
    "# Salvar o DataFrame em um arquivo CSV\n",
    "df.to_csv(\"./datasets/raw/HARMONIZACOES.csv\", index=False)\n"
   ]
  },
  {
   "cell_type": "code",
   "execution_count": 12,
   "id": "4f07e8e3-16e2-4233-a100-4d2643e9e0f3",
   "metadata": {},
   "outputs": [],
   "source": [
    "### PRE TRATAMENTO DOS DADOS ###"
   ]
  },
  {
   "cell_type": "code",
   "execution_count": null,
   "id": "ce74e8d4-b4bc-4c7d-bc7f-c8a24da0928d",
   "metadata": {},
   "outputs": [],
   "source": [
    "# INVERTENDO ORDEM DAS COLUNAS PARA LISTAR AS CERVEJAS COM SEUS RESPECTIVOS PRATOS \n",
    "\n",
    "# Criar um dicionário para armazenar as preparações por estilo de cerveja\n",
    "estilos_dict = {}\n",
    "\n",
    "# Iterar pelas linhas do DataFrame\n",
    "for index, row in df.iterrows():\n",
    "    preparacao = row['pratos']\n",
    "    estilos = row['estilos_cervejas'].split(', ')  # Separar os estilos por vírgula\n",
    "    categoria = row['estilos_cervejas'].split(', ')  # Separar os estilos por vírgula\n",
    "\n",
    "    # Adicionar as preparações a cada estilo no dicionário\n",
    "    for estilo in estilos:\n",
    "        estilo = estilo.strip()  # Remover espaços em branco\n",
    "        if estilo not in estilos_dict:\n",
    "            estilos_dict[estilo] = set()  # Criar um conjunto vazio se o estilo não existir\n",
    "        estilos_dict[estilo].add(preparacao)  # Adicionar a preparação ao conjunto do estilo\n",
    "\n",
    "# Criar um novo DataFrame a partir do dicionário\n",
    "novos_dados = {\n",
    "    \"estilos_cervejas\": [],\n",
    "    \"pratos\": []\n",
    "}\n",
    "\n",
    "# Preencher o novo DataFrame\n",
    "for estilo, preparacoes in estilos_dict.items():\n",
    "    novos_dados[\"estilos_cervejas\"].append(estilo)\n",
    "    novos_dados[\"pratos\"].append(preparacoes)  # Adicionar o conjunto de preparações\n",
    "\n",
    "# Converter os conjuntos para strings para que possam ser salvos em CSV\n",
    "harmonizacao_df = pd.DataFrame(novos_dados)\n",
    "harmonizacao_df['pratos'] = harmonizacao_df['pratos'].apply(lambda x: str(x))  # Converte o conjunto em string\n",
    "\n",
    "# Exibir as primeiras linhas do novo DataFrame\n",
    "print(harmonizacao_df.head())\n"
   ]
  },
  {
   "cell_type": "code",
   "execution_count": 54,
   "id": "b4739dbf-bc7b-4479-9194-1f027c42285a",
   "metadata": {},
   "outputs": [
    {
     "name": "stdout",
     "output_type": "stream",
     "text": [
      "       estilos_cervejas                                             pratos\n",
      "0     American Pale Ale  {'Atum (massas ou sanduíches)', 'Enchiladas (T...\n",
      "1  India Pale Ale (IPA)  {'Chouriço', 'Enchiladas (Tortilhas)', 'Carne ...\n",
      "2           Amber Lager  {'Lasanha', 'Abacate (Guacamole ou Salada)', '...\n",
      "3    American Brown Ale  {'Feijão/ Feijoada', 'Carne com Chili', 'Bife ...\n",
      "4        German Pilsner  {'Sopa (caldo de Piranha)', 'Caranguejo', 'Emp...\n"
     ]
    }
   ],
   "source": [
    "# INVERTENDO ORDEM DAS COLUNAS PARA LISTAR AS CERVEJAS COM SEUS RESPECTIVOS PRATOS \n",
    "\n",
    "# Criar um dicionário para armazenar as preparações por estilo de cerveja\n",
    "estilos_dict = {}\n",
    "\n",
    "# Iterar pelas linhas do DataFrame\n",
    "for index, row in df.iterrows():\n",
    "    preparacao = row['pratos']\n",
    "    estilos = row['estilos_cervejas'].split(', ')  # Separar os estilos por vírgula\n",
    "\n",
    "    # Adicionar as preparações a cada estilo no dicionário\n",
    "    for estilo in estilos:\n",
    "        estilo = estilo.strip()  # Remover espaços em branco\n",
    "        if estilo not in estilos_dict:\n",
    "            estilos_dict[estilo] = set()  # Criar um conjunto vazio se o estilo não existir\n",
    "        estilos_dict[estilo].add(preparacao)  # Adicionar a preparação ao conjunto do estilo\n",
    "\n",
    "# Criar um novo DataFrame a partir do dicionário\n",
    "novos_dados = {\n",
    "    \"estilos_cervejas\": [],\n",
    "    \"pratos\": []\n",
    "}\n",
    "\n",
    "# Preencher o novo DataFrame\n",
    "for estilo, preparacoes in estilos_dict.items():\n",
    "    novos_dados[\"estilos_cervejas\"].append(estilo)\n",
    "    novos_dados[\"pratos\"].append(preparacoes)  # Adicionar o conjunto de preparações\n",
    "\n",
    "# Converter os conjuntos para strings para que possam ser salvos em CSV\n",
    "harmonizacao_df = pd.DataFrame(novos_dados)\n",
    "harmonizacao_df['pratos'] = harmonizacao_df['pratos'].apply(lambda x: str(x))  # Converte o conjunto em string\n",
    "\n",
    "# Exibir as primeiras linhas do novo DataFrame\n",
    "print(harmonizacao_df.head())\n"
   ]
  },
  {
   "cell_type": "code",
   "execution_count": 56,
   "id": "73fedd01-2469-4fc0-b6de-cfbf5802d5e8",
   "metadata": {},
   "outputs": [
    {
     "name": "stdout",
     "output_type": "stream",
     "text": [
      "                  estilos_cervejas  \\\n",
      "0                American Pale Ale   \n",
      "1             India Pale Ale (IPA)   \n",
      "2                      Amber Lager   \n",
      "3               American Brown Ale   \n",
      "4                   German Pilsner   \n",
      "..                             ...   \n",
      "63                                   \n",
      "64                     Traditional   \n",
      "65                            Bock   \n",
      "66             Belgian Dark Strong   \n",
      "67  Fruit Beer(Framboise ou Kriek)   \n",
      "\n",
      "                                               pratos  \\\n",
      "0   {'Atum (massas ou sanduíches)', 'Enchiladas (T...   \n",
      "1   {'Chouriço', 'Enchiladas (Tortilhas)', 'Carne ...   \n",
      "2   {'Lasanha', 'Abacate (Guacamole ou Salada)', '...   \n",
      "3   {'Feijão/ Feijoada', 'Carne com Chili', 'Bife ...   \n",
      "4   {'Sopa (caldo de Piranha)', 'Caranguejo', 'Emp...   \n",
      "..                                                ...   \n",
      "63                               {'Salame', 'Vitela'}   \n",
      "64                               {'Tamboril (peixe)'}   \n",
      "65                               {'Tamboril (peixe)'}   \n",
      "66                                        {'Terrine'}   \n",
      "67                             {'Trufa de Chocolate'}   \n",
      "\n",
      "                                            pratos_en  \n",
      "0   {Flooded (tortillas), Empanadas, Tuna (pasta o...  \n",
      "1   {Avocado (guacamole or salad), Flooded (tortil...  \n",
      "2   {Avocado (guacamole or salad), Peru, Chicken i...  \n",
      "3   {Tamboril (fish), Meat roll, Grilled lamb, Bea...  \n",
      "4   {Empanadas, Pizza Mussarela/Marguerita, Crab, ...  \n",
      "..                                                ...  \n",
      "63                                     {Salami, Calf}  \n",
      "64                                  {Tamboril (fish)}  \n",
      "65                                  {Tamboril (fish)}  \n",
      "66                                          {Terrine}  \n",
      "67                                {Chocolate truffle}  \n",
      "\n",
      "[68 rows x 3 columns]\n"
     ]
    }
   ],
   "source": [
    "# CRIA COLUNA DE PRATOS TRADUZIDOS PARA O INGLES\n",
    "\n",
    "# Inicializa o tradutor\n",
    "translator = Translator()\n",
    "\n",
    "# Função para traduzir uma lista de preparações\n",
    "def translate_preparations(preparations):\n",
    "    # Verifica se preparations é um conjunto em formato de string e converte para lista\n",
    "    if isinstance(preparations, str):\n",
    "        preparations = eval(preparations)  # Converte a string do conjunto de volta para um conjunto\n",
    "\n",
    "    # Traduz cada preparação individualmente\n",
    "    translations = {translator.translate(preparation, destination_language='en').result for preparation in preparations}\n",
    "    return translations  # Retorna um conjunto\n",
    "\n",
    "# Adiciona uma nova coluna 'translated_dishes' com as traduções\n",
    "harmonizacao_df['pratos_en'] = harmonizacao_df['pratos'].apply(translate_preparations)\n",
    "\n",
    "# Exibe o DataFrame resultante\n",
    "print(harmonizacao_df)\n"
   ]
  },
  {
   "cell_type": "code",
   "execution_count": 58,
   "id": "88f86797-426c-481c-bef2-279dafbb2a69",
   "metadata": {},
   "outputs": [],
   "source": [
    "harmonizacao_df.rename(columns={'pratos': 'pratos_pt'}, inplace=True)\n"
   ]
  },
  {
   "cell_type": "code",
   "execution_count": 60,
   "id": "e6ebb575-8d05-4a22-bc17-2e37e7b163c1",
   "metadata": {},
   "outputs": [],
   "source": [
    "harmonizacao_df.rename(columns={'pratos_en': 'pratos'}, inplace=True)\n"
   ]
  },
  {
   "cell_type": "code",
   "execution_count": 62,
   "id": "809cc106-5c14-4ffe-844e-bfd31dc0ec7c",
   "metadata": {},
   "outputs": [],
   "source": [
    "# renomear todas as linhas que contem 'IPA' no nome para apenas 'IPA'\n",
    "harmonizacao_df.loc[harmonizacao_df['estilos_cervejas'].str.contains('IPA', case=False, na=False), 'estilos_cervejas'] = 'IPA'\n"
   ]
  },
  {
   "cell_type": "code",
   "execution_count": 64,
   "id": "6a7c61d4-259a-4e44-a39d-6aedb60dd62d",
   "metadata": {},
   "outputs": [
    {
     "data": {
      "text/html": [
       "<div>\n",
       "<style scoped>\n",
       "    .dataframe tbody tr th:only-of-type {\n",
       "        vertical-align: middle;\n",
       "    }\n",
       "\n",
       "    .dataframe tbody tr th {\n",
       "        vertical-align: top;\n",
       "    }\n",
       "\n",
       "    .dataframe thead th {\n",
       "        text-align: right;\n",
       "    }\n",
       "</style>\n",
       "<table border=\"1\" class=\"dataframe\">\n",
       "  <thead>\n",
       "    <tr style=\"text-align: right;\">\n",
       "      <th></th>\n",
       "      <th>estilos_cervejas</th>\n",
       "      <th>pratos_pt</th>\n",
       "      <th>pratos</th>\n",
       "    </tr>\n",
       "  </thead>\n",
       "  <tbody>\n",
       "    <tr>\n",
       "      <th>0</th>\n",
       "      <td>American Pale Ale</td>\n",
       "      <td>{'Atum (massas ou sanduíches)', 'Enchiladas (T...</td>\n",
       "      <td>{Flooded (tortillas), Empanadas, Tuna (pasta o...</td>\n",
       "    </tr>\n",
       "    <tr>\n",
       "      <th>1</th>\n",
       "      <td>IPA</td>\n",
       "      <td>{'Chouriço', 'Enchiladas (Tortilhas)', 'Carne ...</td>\n",
       "      <td>{Avocado (guacamole or salad), Flooded (tortil...</td>\n",
       "    </tr>\n",
       "    <tr>\n",
       "      <th>2</th>\n",
       "      <td>Amber Lager</td>\n",
       "      <td>{'Lasanha', 'Abacate (Guacamole ou Salada)', '...</td>\n",
       "      <td>{Avocado (guacamole or salad), Peru, Chicken i...</td>\n",
       "    </tr>\n",
       "    <tr>\n",
       "      <th>3</th>\n",
       "      <td>American Brown Ale</td>\n",
       "      <td>{'Feijão/ Feijoada', 'Carne com Chili', 'Bife ...</td>\n",
       "      <td>{Tamboril (fish), Meat roll, Grilled lamb, Bea...</td>\n",
       "    </tr>\n",
       "    <tr>\n",
       "      <th>4</th>\n",
       "      <td>German Pilsner</td>\n",
       "      <td>{'Sopa (caldo de Piranha)', 'Caranguejo', 'Emp...</td>\n",
       "      <td>{Empanadas, Pizza Mussarela/Marguerita, Crab, ...</td>\n",
       "    </tr>\n",
       "  </tbody>\n",
       "</table>\n",
       "</div>"
      ],
      "text/plain": [
       "     estilos_cervejas                                          pratos_pt  \\\n",
       "0   American Pale Ale  {'Atum (massas ou sanduíches)', 'Enchiladas (T...   \n",
       "1                 IPA  {'Chouriço', 'Enchiladas (Tortilhas)', 'Carne ...   \n",
       "2         Amber Lager  {'Lasanha', 'Abacate (Guacamole ou Salada)', '...   \n",
       "3  American Brown Ale  {'Feijão/ Feijoada', 'Carne com Chili', 'Bife ...   \n",
       "4      German Pilsner  {'Sopa (caldo de Piranha)', 'Caranguejo', 'Emp...   \n",
       "\n",
       "                                              pratos  \n",
       "0  {Flooded (tortillas), Empanadas, Tuna (pasta o...  \n",
       "1  {Avocado (guacamole or salad), Flooded (tortil...  \n",
       "2  {Avocado (guacamole or salad), Peru, Chicken i...  \n",
       "3  {Tamboril (fish), Meat roll, Grilled lamb, Bea...  \n",
       "4  {Empanadas, Pizza Mussarela/Marguerita, Crab, ...  "
      ]
     },
     "execution_count": 64,
     "metadata": {},
     "output_type": "execute_result"
    }
   ],
   "source": [
    "harmonizacao_df.head()"
   ]
  },
  {
   "cell_type": "code",
   "execution_count": 91,
   "id": "78eb6038-0be5-4599-b2cc-526e16576a01",
   "metadata": {},
   "outputs": [],
   "source": [
    "harmonizacao_df = harmonizacao_df.replace('', np.nan)\n",
    "harmonizacao_df.dropna(inplace=True)\n",
    "\n"
   ]
  },
  {
   "cell_type": "code",
   "execution_count": 101,
   "id": "8d03e03b-1e5b-4942-ad93-b1b604abccb8",
   "metadata": {},
   "outputs": [],
   "source": [
    "# Salvar o novo DataFrame em um arquivo CSV\n",
    "harmonizacao_df.to_csv(\"./datasets/preprocessed/HARMONIZACOES_preprocessed.csv\", index=False)"
   ]
  },
  {
   "cell_type": "code",
   "execution_count": null,
   "id": "d75ec004-19f7-4f65-98f2-8588abef96aa",
   "metadata": {},
   "outputs": [],
   "source": []
  },
  {
   "cell_type": "code",
   "execution_count": null,
   "id": "adb49005-2c75-484f-a457-d2a2b66c5dea",
   "metadata": {},
   "outputs": [],
   "source": []
  }
 ],
 "metadata": {
  "kernelspec": {
   "display_name": "Python 3 (ipykernel)",
   "language": "python",
   "name": "python3"
  },
  "language_info": {
   "codemirror_mode": {
    "name": "ipython",
    "version": 3
   },
   "file_extension": ".py",
   "mimetype": "text/x-python",
   "name": "python",
   "nbconvert_exporter": "python",
   "pygments_lexer": "ipython3",
   "version": "3.11.5"
  }
 },
 "nbformat": 4,
 "nbformat_minor": 5
}
